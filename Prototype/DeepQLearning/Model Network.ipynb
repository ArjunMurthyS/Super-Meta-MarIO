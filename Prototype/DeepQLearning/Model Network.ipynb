{
 "cells": [
  {
   "cell_type": "code",
   "execution_count": 1,
   "metadata": {
    "collapsed": true
   },
   "outputs": [],
   "source": [
    "import tensorflow as tf\n",
    "import tensorflow.contrib.slim as slim\n",
    "import numpy as np\n",
    "import gym\n",
    "import matplotlib.pyplot as plt\n",
    "%matplotlib inline\n",
    "\n",
    "try:\n",
    "    xrange = xrange\n",
    "except:\n",
    "    xrange = range"
   ]
  },
  {
   "cell_type": "code",
   "execution_count": 2,
   "metadata": {},
   "outputs": [
    {
     "name": "stderr",
     "output_type": "stream",
     "text": [
      "[2017-07-15 18:28:47,014] Making new env: CartPole-v0\n"
     ]
    }
   ],
   "source": [
    "\n",
    "env = gym.make('CartPole-v0')"
   ]
  },
  {
   "cell_type": "code",
   "execution_count": 3,
   "metadata": {
    "collapsed": true
   },
   "outputs": [],
   "source": [
    "\n",
    "gamma = 0.99\n",
    "\n",
    "def discount_rewards(r):\n",
    "    \"\"\" take 1D float array of rewards and compute discounted reward \"\"\"\n",
    "    discounted_r = np.zeros_like(r)\n",
    "    running_add = 0\n",
    "    for t in reversed(xrange(0, r.size)):\n",
    "        running_add = running_add * gamma + r[t]\n",
    "        discounted_r[t] = running_add\n",
    "    return discounted_r"
   ]
  },
  {
   "cell_type": "code",
   "execution_count": 6,
   "metadata": {
    "collapsed": true
   },
   "outputs": [],
   "source": [
    "class agent():\n",
    "    def __init__(self, lr, s_size,a_size,h_size):\n",
    "        #These lines established the feed-forward part of the network. The agent takes a state and produces an action.\n",
    "        self.state_in= tf.placeholder(shape=[None,s_size],dtype=tf.float32)\n",
    "        hidden = slim.fully_connected(self.state_in,h_size,biases_initializer=None,activation_fn=tf.nn.relu)\n",
    "        self.output = slim.fully_connected(hidden,a_size,activation_fn=tf.nn.softmax,biases_initializer=None)\n",
    "        self.chosen_action = tf.argmax(self.output,1)\n",
    "\n",
    "        #The next six lines establish the training proceedure. We feed the reward and chosen action into the network\n",
    "        #to compute the loss, and use it to update the network.\n",
    "        self.reward_holder = tf.placeholder(shape=[None],dtype=tf.float32)\n",
    "        self.action_holder = tf.placeholder(shape=[None],dtype=tf.int32)\n",
    "        \n",
    "        self.indexes = tf.range(0, tf.shape(self.output)[0]) * tf.shape(self.output)[1] + self.action_holder\n",
    "        self.responsible_outputs = tf.gather(tf.reshape(self.output, [-1]), self.indexes)\n",
    "        self.drawn_out_loss=tf.log(self.responsible_outputs)*self.reward_holder\n",
    "        self.drawn_out_loss2=-tf.log(self.responsible_outputs)*self.reward_holder\n",
    "        self.loss = -tf.reduce_mean(tf.log(self.responsible_outputs)*self.reward_holder)\n",
    "        \n",
    "        tvars = tf.trainable_variables()\n",
    "        self.gradient_holders = []\n",
    "        for idx,var in enumerate(tvars):\n",
    "            placeholder = tf.placeholder(tf.float32,name=str(idx)+'_holder')\n",
    "            self.gradient_holders.append(placeholder)\n",
    "        \n",
    "        self.gradients = tf.gradients(self.loss,tvars)\n",
    "        \n",
    "        optimizer = tf.train.AdamOptimizer(learning_rate=lr)\n",
    "        self.update_batch = optimizer.apply_gradients(zip(self.gradient_holders,tvars))"
   ]
  },
  {
   "cell_type": "code",
   "execution_count": 22,
   "metadata": {
    "scrolled": false
   },
   "outputs": [
    {
     "name": "stderr",
     "output_type": "stream",
     "text": [
      "C:\\Users\\Jonny\\AppData\\Local\\conda\\conda\\envs\\deeplearning\\lib\\site-packages\\tensorflow\\python\\ops\\gradients_impl.py:93: UserWarning: Converting sparse IndexedSlices to a dense Tensor of unknown shape. This may consume a large amount of memory.\n",
      "  \"Converting sparse IndexedSlices to a dense Tensor of unknown shape. \"\n"
     ]
    },
    {
     "name": "stdout",
     "output_type": "stream",
     "text": [
      "[array([[ -1.77657945e-04,   0.00000000e+00,   0.00000000e+00,\n",
      "          4.87883016e-03,   0.00000000e+00,  -4.74723941e-03,\n",
      "          1.54190384e-05,   0.00000000e+00],\n",
      "       [ -4.40419931e-03,   0.00000000e+00,   0.00000000e+00,\n",
      "          1.20947897e-01,   0.00000000e+00,  -1.17685661e-01,\n",
      "          8.59209045e-04,   0.00000000e+00],\n",
      "       [ -8.79565487e-04,   0.00000000e+00,   0.00000000e+00,\n",
      "          2.41545923e-02,   0.00000000e+00,  -2.35030837e-02,\n",
      "          8.01939532e-05,   0.00000000e+00],\n",
      "       [  4.64775134e-03,   0.00000000e+00,   0.00000000e+00,\n",
      "         -1.27636299e-01,   0.00000000e+00,   1.24193698e-01,\n",
      "         -1.09927461e-03,   0.00000000e+00]], dtype=float32), array([[ 0.00655852, -0.00655849],\n",
      "       [ 0.        ,  0.        ],\n",
      "       [ 0.        ,  0.        ],\n",
      "       [-0.05831863,  0.05831861],\n",
      "       [ 0.        ,  0.        ],\n",
      "       [-0.03330268,  0.03330268],\n",
      "       [-0.10968276,  0.10968278],\n",
      "       [ 0.        ,  0.        ]], dtype=float32)]\n",
      "[array([[ -2.13189330e-03,   0.00000000e+00,   0.00000000e+00,\n",
      "          5.85459843e-02,   0.00000000e+00,  -5.69668785e-02,\n",
      "          1.85028563e-04,   0.00000000e+00],\n",
      "       [ -5.28504066e-02,   0.00000000e+00,   0.00000000e+00,\n",
      "          1.45137465e+00,   0.00000000e+00,  -1.41222787e+00,\n",
      "          1.03104422e-02,   0.00000000e+00],\n",
      "       [ -1.05547784e-02,   0.00000000e+00,   0.00000000e+00,\n",
      "          2.89855152e-01,   0.00000000e+00,  -2.82036960e-01,\n",
      "          9.62354650e-04,   0.00000000e+00],\n",
      "       [  5.57730570e-02,   0.00000000e+00,   0.00000000e+00,\n",
      "         -1.53163552e+00,   0.00000000e+00,   1.49032390e+00,\n",
      "         -1.31911375e-02,   0.00000000e+00]], dtype=float32), array([[ 0.0787019 , -0.07870181],\n",
      "       [ 0.        ,  0.        ],\n",
      "       [ 0.        ,  0.        ],\n",
      "       [-0.69982362,  0.69982356],\n",
      "       [ 0.        ,  0.        ],\n",
      "       [-0.39963233,  0.39963225],\n",
      "       [-1.31619334,  1.31619334],\n",
      "       [ 0.        ,  0.        ]], dtype=float32)]\n",
      "12.0\n",
      "0\n"
     ]
    }
   ],
   "source": [
    "tf.reset_default_graph() #Clear the Tensorflow graph.\n",
    "\n",
    "myAgent = agent(lr=1e-2,s_size=4,a_size=2,h_size=8) #Load the agent.\n",
    "\n",
    "total_episodes = 1 #Set total number of episodes to train agent on.\n",
    "max_ep = 999\n",
    "update_frequency = 5\n",
    "\n",
    "init = tf.global_variables_initializer()\n",
    "\n",
    "# Launch the tensorflow graph\n",
    "with tf.Session() as sess:\n",
    "    sess.run(init)\n",
    "    i = 0\n",
    "    total_reward = []\n",
    "    total_lenght = []\n",
    "    loss_total=0\n",
    "    gradBuffer = sess.run(tf.trainable_variables())\n",
    "    for ix,grad in enumerate(gradBuffer):\n",
    "        gradBuffer[ix] = grad * 0\n",
    "    a_dist_list=[]\n",
    "    while i < total_episodes:\n",
    "        s = env.reset()\n",
    "        running_reward = 0\n",
    "        ep_history = []\n",
    "        for j in range(max_ep):\n",
    "            #Probabilistically pick an action given our network outputs.\n",
    "            a_dist = sess.run(myAgent.output,feed_dict={myAgent.state_in:[s]})\n",
    "            a = np.random.choice(a_dist[0],p=a_dist[0])\n",
    "            a = np.argmax(a_dist == a)\n",
    "            s1,r,d,_ = env.step(a) #Get our reward for taking an action given a bandit.\n",
    "            ep_history.append([s,a,r,s1])\n",
    "            s = s1\n",
    "            running_reward += r\n",
    "            if d == True:\n",
    "                 #Update the network.\n",
    "                ep_history = np.array(ep_history)\n",
    "                ep_history[:,2] = discount_rewards(ep_history[:,2])  \n",
    "                feed_dict={myAgent.reward_holder:ep_history[:,2],\n",
    "                               myAgent.action_holder:ep_history[:,1],myAgent.state_in:np.vstack(ep_history[:,0])}\n",
    "                grads = sess.run(myAgent.gradients, feed_dict=feed_dict)\n",
    "                print(grads)\n",
    "                for ix,grad in enumerate(gradBuffer):\n",
    "                        gradBuffer[ix] = grad * 0\n",
    "                for k in range(ep_history[:,2].size):\n",
    "                    feed_dict={myAgent.reward_holder:[ep_history[:,2][k]],\n",
    "                               myAgent.action_holder:[ep_history[:,1][k]],myAgent.state_in:[ep_history[:,0][k]]}\n",
    "                    grads,loss = sess.run([myAgent.gradients,myAgent.loss], feed_dict=feed_dict)\n",
    "    \n",
    "                    for idx,grad in enumerate(grads):\n",
    "                        gradBuffer[idx] += grad   \n",
    "                print(gradBuffer)    \n",
    "                if i % update_frequency == 0 and i != 0:\n",
    "                    feed_dict= dictionary = dict(zip(myAgent.gradient_holders, gradBuffer))\n",
    "                    _ = sess.run(myAgent.update_batch, feed_dict=feed_dict)\n",
    "                    for ix,grad in enumerate(gradBuffer):\n",
    "                        gradBuffer[ix] = grad * 0\n",
    "                \n",
    "                total_reward.append(running_reward)\n",
    "                total_lenght.append(j)\n",
    "                break\n",
    "\n",
    "        \n",
    "            #Update our running tally of scores.\n",
    "        if i % 100 == 0:\n",
    "            print(np.mean(total_reward[-100:]))\n",
    "            print(loss_total)\n",
    "        loss_total=0    \n",
    "        i += 1"
   ]
  },
  {
   "cell_type": "code",
   "execution_count": null,
   "metadata": {
    "collapsed": true
   },
   "outputs": [],
   "source": []
  }
 ],
 "metadata": {
  "kernelspec": {
   "display_name": "Python 3",
   "language": "python",
   "name": "python3"
  },
  "language_info": {
   "codemirror_mode": {
    "name": "ipython",
    "version": 3
   },
   "file_extension": ".py",
   "mimetype": "text/x-python",
   "name": "python",
   "nbconvert_exporter": "python",
   "pygments_lexer": "ipython3",
   "version": "3.6.1"
  }
 },
 "nbformat": 4,
 "nbformat_minor": 2
}
