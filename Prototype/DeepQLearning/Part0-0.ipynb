{
 "cells": [
  {
   "cell_type": "code",
   "execution_count": 1,
   "metadata": {
    "collapsed": true
   },
   "outputs": [],
   "source": [
    "import gym\n",
    "import numpy as np"
   ]
  },
  {
   "cell_type": "code",
   "execution_count": 41,
   "metadata": {
    "collapsed": false
   },
   "outputs": [
    {
     "name": "stderr",
     "output_type": "stream",
     "text": [
      "[2017-06-15 21:09:31,246] Making new env: FrozenLake-v0\n"
     ]
    },
    {
     "data": {
      "text/plain": [
       "[1]"
      ]
     },
     "execution_count": 41,
     "metadata": {},
     "output_type": "execute_result"
    }
   ],
   "source": [
    "env = gym.make('FrozenLake-v0')"
   ]
  },
  {
   "cell_type": "code",
   "execution_count": 141,
   "metadata": {
    "collapsed": false,
    "scrolled": false
   },
   "outputs": [
    {
     "name": "stdout",
     "output_type": "stream",
     "text": [
      " \n",
      "[ 0.33628692  0.32981388  0.34734563  0.00064811]\n",
      "0.345690804685\n",
      "0.0\n",
      "0.333120835996\n",
      " \n",
      " \n",
      "[ 0.00891603  0.0662351   0.00314916  0.28984676]\n",
      "0.347345625078\n",
      "0.0\n",
      "0.289752661437\n",
      " \n",
      " \n",
      "[ 0.33628692  0.32981388  0.28975266  0.00064811]\n",
      "0.289846758449\n",
      "0.0\n",
      "0.313547409685\n",
      " \n",
      " \n",
      "[ 0.3178703   0.28392778  0.33312084  0.32858059]\n",
      "0.289752661437\n",
      "0.0\n",
      "0.311122367645\n",
      " \n",
      " \n",
      "[ 0.05440101  0.16031261  0.00231302  0.28570144]\n",
      "0.328580586042\n",
      "0.0\n",
      "0.282849213376\n",
      " \n",
      " \n",
      "[ 0.3178703   0.28392778  0.33312084  0.28284921]\n",
      "0.285701442326\n",
      "0.0\n",
      "0.310312123822\n",
      " \n",
      " \n",
      "[ 0.3178703   0.28392778  0.33312084  0.28284921]\n",
      "0.333120835996\n",
      "0.0\n",
      "0.319796002556\n",
      " \n",
      " \n",
      "[ 0.3178703   0.28392778  0.319796    0.28284921]\n",
      "0.31787030466\n",
      "0.0\n",
      "0.306619022875\n",
      " \n",
      " \n",
      "[ 0.05440101  0.16031261  0.00231302  0.31031212]\n",
      "0.319796002556\n",
      "0.0\n",
      "0.299796414616\n",
      " \n",
      " \n",
      "[ 0.07329349  0.00822613  0.00367079  0.10937084]\n",
      "0.160312605314\n",
      "0.0\n",
      "0.115184361874\n",
      " \n",
      " \n",
      "[ 0.05440101  0.11518436  0.00231302  0.31031212]\n",
      "0.0732934883955\n",
      "0.0\n",
      "0.250495911784\n",
      " \n",
      " \n",
      "[ 0.25049591  0.00822613  0.00367079  0.10937084]\n",
      "0.310312123822\n",
      "0.0\n",
      "0.25243931772\n",
      " \n",
      " \n",
      "[  2.13439856e-02   0.00000000e+00   0.00000000e+00   1.45675110e-05]\n",
      "0.250495911784\n",
      "0.0\n",
      "0.0663206114469\n",
      " \n",
      " \n",
      "[ 0.  0.  0.  0.]\n",
      "0.0213439856449\n",
      "0.0\n",
      "0.00426879712898\n",
      " \n",
      "23\n",
      "42\n",
      "43\n",
      "48\n",
      "50\n",
      "51\n",
      "52\n",
      "53\n",
      "54\n",
      "55\n"
     ]
    }
   ],
   "source": [
    "#Q= np.zeros([env.observation_space.n,env.action_space.n])\n",
    "lr=.8\n",
    "y=.95\n",
    "num_episodes=100\n",
    "np.random.seed(0)\n",
    "rList=[]\n",
    "done=0\n",
    "for i in range(num_episodes):\n",
    "    s=env.reset()\n",
    "    env.seed(5) \n",
    "    rAll=0\n",
    "    d=False\n",
    "    j=0\n",
    "    while j<99 and done<10:\n",
    "        j+=1\n",
    "        a = np.argmax(Q[s,:]+  np.random.randn(1,env.action_space.n)*(1./(i+1)))\n",
    "        s1,r,d,_=env.step(a)\n",
    "        if i==7:\n",
    "            print(\" \")\n",
    "            print(Q[s1,:])\n",
    "            print(Q[s,a])\n",
    "            print(r)\n",
    "            #print(Q[s,a] + lr*(r + y*np.max(Q[s1,:]) - Q[s,a]))\n",
    "        Q[s,a] = Q[s,a] + lr*(r + y*np.max(Q[s1,:]) - Q[s,a])\n",
    "        if i==7:    \n",
    "            print(Q[s,a])\n",
    "            print(\" \")\n",
    "        rAll+=r\n",
    "        s=s1\n",
    "        if d==True:\n",
    "            if r==1:\n",
    "                done+=1\n",
    "                print(i)\n",
    "            break      \n",
    "    rList.append(rAll)  "
   ]
  },
  {
   "cell_type": "code",
   "execution_count": 121,
   "metadata": {
    "collapsed": false
   },
   "outputs": [
    {
     "name": "stdout",
     "output_type": "stream",
     "text": [
      "Score over time: 0.502\n"
     ]
    }
   ],
   "source": [
    "print(\"Score over time: \" +  str(sum(rList)/num_episodes))"
   ]
  },
  {
   "cell_type": "code",
   "execution_count": 122,
   "metadata": {
    "collapsed": false
   },
   "outputs": [
    {
     "name": "stdout",
     "output_type": "stream",
     "text": [
      "Final Q-Table Values\n",
      "[[  4.89809741e-02   1.00507061e-02   1.26501398e-02   1.13438512e-02]\n",
      " [  9.80420226e-04   1.89992221e-03   1.36782080e-03   6.31794877e-02]\n",
      " [  3.86220042e-03   8.00225548e-02   2.14045725e-03   4.20272354e-03]\n",
      " [  2.00080718e-03   1.78175701e-03   1.72572762e-03   5.05458258e-02]\n",
      " [  1.45387142e-01   4.99612523e-04   2.67439937e-03   2.14167640e-04]\n",
      " [  0.00000000e+00   0.00000000e+00   0.00000000e+00   0.00000000e+00]\n",
      " [  8.53836365e-05   3.06571611e-07   6.45678307e-02   1.24471713e-06]\n",
      " [  0.00000000e+00   0.00000000e+00   0.00000000e+00   0.00000000e+00]\n",
      " [  1.02124529e-02   6.55394615e-04   1.32185825e-03   3.69364515e-01]\n",
      " [  1.57992222e-03   5.55660826e-01   4.67884292e-03   4.60575806e-03]\n",
      " [  3.09902877e-01   1.60775695e-03   0.00000000e+00   1.03232718e-03]\n",
      " [  0.00000000e+00   0.00000000e+00   0.00000000e+00   0.00000000e+00]\n",
      " [  0.00000000e+00   0.00000000e+00   0.00000000e+00   0.00000000e+00]\n",
      " [  0.00000000e+00   5.61079910e-03   7.75701312e-01   0.00000000e+00]\n",
      " [  0.00000000e+00   0.00000000e+00   0.00000000e+00   9.75467031e-01]\n",
      " [  0.00000000e+00   0.00000000e+00   0.00000000e+00   0.00000000e+00]]\n"
     ]
    }
   ],
   "source": [
    "print (\"Final Q-Table Values\")\n",
    "print (Q)"
   ]
  }
 ],
 "metadata": {
  "kernelspec": {
   "display_name": "Python 3",
   "language": "python",
   "name": "python3"
  },
  "language_info": {
   "codemirror_mode": {
    "name": "ipython",
    "version": 3
   },
   "file_extension": ".py",
   "mimetype": "text/x-python",
   "name": "python",
   "nbconvert_exporter": "python",
   "pygments_lexer": "ipython3",
   "version": "3.6.0"
  }
 },
 "nbformat": 4,
 "nbformat_minor": 2
}
