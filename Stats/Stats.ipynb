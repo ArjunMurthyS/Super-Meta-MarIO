{
 "cells": [
  {
   "cell_type": "code",
   "execution_count": 17,
   "metadata": {
    "collapsed": true
   },
   "outputs": [],
   "source": [
    "import pandas as pd\n",
    "import numpy as np\n",
    "import copy\n",
    "import matplotlib.pyplot as plt\n",
    "#import seaborn as sns\n",
    "import glob"
   ]
  },
  {
   "cell_type": "code",
   "execution_count": 22,
   "metadata": {
    "collapsed": true
   },
   "outputs": [],
   "source": [
    "def gather_files(experiment):\n",
    "    allFiles = glob.glob(\"*\"+experiment+\"*\")\n",
    "    print(allFiles)\n",
    "    frame = pd.DataFrame()\n",
    "    DataFrameList = []\n",
    "    for current_file in allFiles:\n",
    "        df = pd.read_csv(current_file,usecols=[\"Generation\",\"Max Fitness\",\"Average Fitness\",\"World\",\"Level\"])\n",
    "        DataFrameList.append(df)\n",
    "    frame = pd.concat(DataFrameList)  \n",
    "    return frame"
   ]
  },
  {
   "cell_type": "code",
   "execution_count": 23,
   "metadata": {},
   "outputs": [
    {
     "data": {
      "text/html": [
       "<div>\n",
       "<style>\n",
       "    .dataframe thead tr:only-child th {\n",
       "        text-align: right;\n",
       "    }\n",
       "\n",
       "    .dataframe thead th {\n",
       "        text-align: left;\n",
       "    }\n",
       "\n",
       "    .dataframe tbody tr th {\n",
       "        vertical-align: top;\n",
       "    }\n",
       "</style>\n",
       "<table border=\"1\" class=\"dataframe\">\n",
       "  <thead>\n",
       "    <tr style=\"text-align: right;\">\n",
       "      <th></th>\n",
       "      <th>Generation</th>\n",
       "      <th>Max Fitness</th>\n",
       "      <th>Average Fitness</th>\n",
       "      <th>World</th>\n",
       "      <th>Level</th>\n",
       "    </tr>\n",
       "  </thead>\n",
       "  <tbody>\n",
       "    <tr>\n",
       "      <th>0</th>\n",
       "      <td>0</td>\n",
       "      <td>1437</td>\n",
       "      <td>0.000000</td>\n",
       "      <td>0</td>\n",
       "      <td>0</td>\n",
       "    </tr>\n",
       "    <tr>\n",
       "      <th>1</th>\n",
       "      <td>0</td>\n",
       "      <td>1437</td>\n",
       "      <td>0.000000</td>\n",
       "      <td>0</td>\n",
       "      <td>0</td>\n",
       "    </tr>\n",
       "    <tr>\n",
       "      <th>2</th>\n",
       "      <td>1</td>\n",
       "      <td>1437</td>\n",
       "      <td>25.957031</td>\n",
       "      <td>0</td>\n",
       "      <td>0</td>\n",
       "    </tr>\n",
       "    <tr>\n",
       "      <th>3</th>\n",
       "      <td>1</td>\n",
       "      <td>1437</td>\n",
       "      <td>25.957031</td>\n",
       "      <td>0</td>\n",
       "      <td>0</td>\n",
       "    </tr>\n",
       "    <tr>\n",
       "      <th>4</th>\n",
       "      <td>2</td>\n",
       "      <td>1437</td>\n",
       "      <td>21.013672</td>\n",
       "      <td>0</td>\n",
       "      <td>0</td>\n",
       "    </tr>\n",
       "    <tr>\n",
       "      <th>5</th>\n",
       "      <td>2</td>\n",
       "      <td>1437</td>\n",
       "      <td>21.013672</td>\n",
       "      <td>0</td>\n",
       "      <td>0</td>\n",
       "    </tr>\n",
       "    <tr>\n",
       "      <th>6</th>\n",
       "      <td>3</td>\n",
       "      <td>1440</td>\n",
       "      <td>32.435547</td>\n",
       "      <td>0</td>\n",
       "      <td>0</td>\n",
       "    </tr>\n",
       "    <tr>\n",
       "      <th>7</th>\n",
       "      <td>3</td>\n",
       "      <td>1477</td>\n",
       "      <td>32.435547</td>\n",
       "      <td>0</td>\n",
       "      <td>0</td>\n",
       "    </tr>\n",
       "    <tr>\n",
       "      <th>8</th>\n",
       "      <td>4</td>\n",
       "      <td>1503</td>\n",
       "      <td>50.236328</td>\n",
       "      <td>0</td>\n",
       "      <td>0</td>\n",
       "    </tr>\n",
       "    <tr>\n",
       "      <th>9</th>\n",
       "      <td>4</td>\n",
       "      <td>1503</td>\n",
       "      <td>50.236328</td>\n",
       "      <td>0</td>\n",
       "      <td>0</td>\n",
       "    </tr>\n",
       "    <tr>\n",
       "      <th>10</th>\n",
       "      <td>5</td>\n",
       "      <td>1516</td>\n",
       "      <td>65.662109</td>\n",
       "      <td>0</td>\n",
       "      <td>0</td>\n",
       "    </tr>\n",
       "    <tr>\n",
       "      <th>11</th>\n",
       "      <td>5</td>\n",
       "      <td>1516</td>\n",
       "      <td>65.662109</td>\n",
       "      <td>0</td>\n",
       "      <td>0</td>\n",
       "    </tr>\n",
       "    <tr>\n",
       "      <th>12</th>\n",
       "      <td>6</td>\n",
       "      <td>1516</td>\n",
       "      <td>80.976562</td>\n",
       "      <td>0</td>\n",
       "      <td>0</td>\n",
       "    </tr>\n",
       "    <tr>\n",
       "      <th>13</th>\n",
       "      <td>6</td>\n",
       "      <td>1516</td>\n",
       "      <td>80.976562</td>\n",
       "      <td>0</td>\n",
       "      <td>0</td>\n",
       "    </tr>\n",
       "    <tr>\n",
       "      <th>14</th>\n",
       "      <td>7</td>\n",
       "      <td>1516</td>\n",
       "      <td>86.431641</td>\n",
       "      <td>0</td>\n",
       "      <td>0</td>\n",
       "    </tr>\n",
       "    <tr>\n",
       "      <th>15</th>\n",
       "      <td>7</td>\n",
       "      <td>1516</td>\n",
       "      <td>86.431641</td>\n",
       "      <td>0</td>\n",
       "      <td>0</td>\n",
       "    </tr>\n",
       "    <tr>\n",
       "      <th>16</th>\n",
       "      <td>8</td>\n",
       "      <td>1660</td>\n",
       "      <td>88.080078</td>\n",
       "      <td>0</td>\n",
       "      <td>0</td>\n",
       "    </tr>\n",
       "  </tbody>\n",
       "</table>\n",
       "</div>"
      ],
      "text/plain": [
       "    Generation  Max Fitness  Average Fitness  World  Level\n",
       "0            0         1437         0.000000      0      0\n",
       "1            0         1437         0.000000      0      0\n",
       "2            1         1437        25.957031      0      0\n",
       "3            1         1437        25.957031      0      0\n",
       "4            2         1437        21.013672      0      0\n",
       "5            2         1437        21.013672      0      0\n",
       "6            3         1440        32.435547      0      0\n",
       "7            3         1477        32.435547      0      0\n",
       "8            4         1503        50.236328      0      0\n",
       "9            4         1503        50.236328      0      0\n",
       "10           5         1516        65.662109      0      0\n",
       "11           5         1516        65.662109      0      0\n",
       "12           6         1516        80.976562      0      0\n",
       "13           6         1516        80.976562      0      0\n",
       "14           7         1516        86.431641      0      0\n",
       "15           7         1516        86.431641      0      0\n",
       "16           8         1660        88.080078      0      0"
      ]
     },
     "execution_count": 23,
     "metadata": {},
     "output_type": "execute_result"
    }
   ],
   "source": [
    "df"
   ]
  },
  {
   "cell_type": "code",
   "execution_count": 21,
   "metadata": {},
   "outputs": [
    {
     "name": "stdout",
     "output_type": "stream",
     "text": [
      "['frz3.csv']\n"
     ]
    }
   ],
   "source": [
    "#blind=gather_files(\"blind\")\n",
    "#eye=gather_files(\"eye\")\n",
    "#dqn=gather_files(\"dqn\")\n",
    "#killswitch=gather_files(\"dqks\")\n",
    "df=gather_files(\"frz3\")\n",
    "rl_good=df[df.index % 2 != 0] \n",
    "rl_bad=df[df.index % 2 == 0] "
   ]
  },
  {
   "cell_type": "code",
   "execution_count": 10,
   "metadata": {
    "collapsed": true
   },
   "outputs": [],
   "source": [
    "def find_average(exp):\n",
    "    fit_list=[]\n",
    "    Max=exp[\"Generation\"].max()\n",
    "    if Max>80:\n",
    "        Max=80\n",
    "    for i in range(Max):\n",
    "        cf=exp[exp[\"Generation\"]==(i+1)]\n",
    "        cf[\"total\"]=cf[\"Average Fitness\"]\n",
    "        #cf[\"total\"]=cf[\"World\"]*2000000+cf[\"Level\"]*3000+cf[\"Max Fitness\"]\n",
    "        fit_list.append(cf[\"total\"].mean())\n",
    "\n",
    "    return np.array(fit_list)"
   ]
  },
  {
   "cell_type": "code",
   "execution_count": null,
   "metadata": {
    "collapsed": true
   },
   "outputs": [],
   "source": [
    "eye_list=find_average(eye)\n",
    "blind_list=find_average(blind)\n",
    "dqn_list=find_average(dqn)\n",
    "ks_list=find_average(killswitch)\n"
   ]
  },
  {
   "cell_type": "code",
   "execution_count": 13,
   "metadata": {},
   "outputs": [
    {
     "name": "stderr",
     "output_type": "stream",
     "text": [
      "C:\\ProgramData\\Miniconda3\\lib\\site-packages\\ipykernel_launcher.py:8: SettingWithCopyWarning: \n",
      "A value is trying to be set on a copy of a slice from a DataFrame.\n",
      "Try using .loc[row_indexer,col_indexer] = value instead\n",
      "\n",
      "See the caveats in the documentation: http://pandas.pydata.org/pandas-docs/stable/indexing.html#indexing-view-versus-copy\n",
      "  \n"
     ]
    }
   ],
   "source": [
    "rl_good_list=find_average(rl_good)\n",
    "rl_bad_list=find_average(rl_bad)"
   ]
  },
  {
   "cell_type": "code",
   "execution_count": 14,
   "metadata": {},
   "outputs": [
    {
     "data": {
      "text/plain": [
       "array([ 37.0625   ,  39.9296875,  54.3359375,  73.9609375,  71.3984375,\n",
       "        74.609375 ,  22.703125 ,   8.7578125])"
      ]
     },
     "execution_count": 14,
     "metadata": {},
     "output_type": "execute_result"
    }
   ],
   "source": [
    "rl_good_list_final=rl_good_list[1::2]\n",
    "rl_bad_list_final=rl_bad_list[0::2]\n",
    "rl_good_list_final"
   ]
  },
  {
   "cell_type": "code",
   "execution_count": 15,
   "metadata": {
    "collapsed": true,
    "scrolled": true
   },
   "outputs": [],
   "source": [
    "num_list=[]\n",
    "for i in range(len(rl_bad_list)):\n",
    "    num_list.append(i)\n"
   ]
  },
  {
   "cell_type": "code",
   "execution_count": 16,
   "metadata": {},
   "outputs": [
    {
     "data": {
      "image/png": "[encoded data removed]",
      "text/plain": [
       "<matplotlib.figure.Figure at 0x1d6473db278>"
      ]
     },
     "metadata": {},
     "output_type": "display_data"
    }
   ],
   "source": [
    "#plt.plot(eye_list\n",
    "plt.plot(rl_good_list_final,'r--',rl_bad_list_final,'y--')\n",
    "# sns.lmplot(x=\"x\", y=\"y\", col=\"dataset\", hue=\"dataset\", data=num_list,\n",
    "#            col_wrap=2, ci=None, palette=\"muted\", size=4,\n",
    "#            scatter_kws={\"s\": 50, \"alpha\": 1})\n",
    "#axes = plt.gca()\n",
    "#axes.set_xlim([0,85])\n",
    "#plt.ylabel('Max Fitness')\n",
    "#plt.xlabel('Generation')\n",
    "#plt.title(\"Fitness Experiment\")\n",
    "plt.show()"
   ]
  },
  {
   "cell_type": "code",
   "execution_count": null,
   "metadata": {
    "collapsed": true
   },
   "outputs": [],
   "source": []
  }
 ],
 "metadata": {
  "kernelspec": {
   "display_name": "Python 3",
   "language": "python",
   "name": "python3"
  },
  "language_info": {
   "codemirror_mode": {
    "name": "ipython",
    "version": 3
   },
   "file_extension": ".py",
   "mimetype": "text/x-python",
   "name": "python",
   "nbconvert_exporter": "python",
   "pygments_lexer": "ipython3",
   "version": "3.6.1"
  }
 },
 "nbformat": 4,
 "nbformat_minor": 2
}
