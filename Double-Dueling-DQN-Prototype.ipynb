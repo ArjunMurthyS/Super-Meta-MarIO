{
 "cells": [
  {
   "cell_type": "markdown",
   "metadata": {},
   "source": [
    "# Simple Reinforcement Learning with Tensorflow Part 4: Deep Q-Networks and Beyond\n",
    "\n",
    "In this iPython notebook I implement a Deep Q-Network using both Double DQN and Dueling DQN. The agent learn to solve a navigation task in a basic grid world. To learn more, read here: https://medium.com/p/8438a3e2b8df\n",
    "\n",
    "For more reinforcment learning tutorials, see:\n",
    "https://github.com/awjuliani/DeepRL-Agents"
   ]
  },
  {
   "cell_type": "code",
   "execution_count": 2,
   "metadata": {},
   "outputs": [
    {
     "name": "stderr",
     "output_type": "stream",
     "text": [
      "Using TensorFlow backend.\n"
     ]
    }
   ],
   "source": [
    "from __future__ import division\n",
    "from lib.SQL import SQLCalls\n",
    "from PIL import ImageGrab\n",
    "import gym\n",
    "import numpy as np\n",
    "import random\n",
    "import tensorflow as tf\n",
    "import tensorflow.contrib.slim as slim\n",
    "import matplotlib.pyplot as plt\n",
    "import scipy.misc\n",
    "import cv2\n",
    "import os\n",
    "%matplotlib inline\n",
    "SQL=SQLCalls()\n",
    "img=ImageGrab.grab(bbox=(0,60,580,530))\n",
    "Genomes=SQL.GatherGenomes()\n",
    "POPULATION=len(Genomes)\n",
    "UsedGenomes=np.ones(Genomes.shape[0])"
   ]
  },
  {
   "cell_type": "markdown",
   "metadata": {},
   "source": [
    "### Load the game environment"
   ]
  },
  {
   "cell_type": "markdown",
   "metadata": {},
   "source": [
    "Feel free to adjust the size of the gridworld. Making it smaller provides an easier task for our DQN agent, while making the world larger increases the challenge."
   ]
  },
  {
   "cell_type": "markdown",
   "metadata": {},
   "source": [
    "Above is an example of a starting environment in our simple game. The agent controls the blue square, and can move up, down, left, or right. The goal is to move to the green square (for +1 reward) and avoid the red square (for -1 reward). The position of the three blocks is randomized every episode."
   ]
  },
  {
   "cell_type": "markdown",
   "metadata": {},
   "source": [
    "### Implementing the network itself"
   ]
  },
  {
   "cell_type": "markdown",
   "metadata": {},
   "source": [
    "### Experience Replay"
   ]
  },
  {
   "cell_type": "markdown",
   "metadata": {},
   "source": [
    "This class allows us to store experies and sample then randomly to train the network."
   ]
  },
  {
   "cell_type": "code",
   "execution_count": 3,
   "metadata": {
    "collapsed": true
   },
   "outputs": [],
   "source": [
    "class experience_buffer():\n",
    "    def __init__(self, buffer_size = 50000):\n",
    "        self.buffer = []\n",
    "        self.buffer_size = buffer_size\n",
    "    \n",
    "    def add(self,experience):\n",
    "        if len(self.buffer) + len(experience) >= self.buffer_size:\n",
    "            self.buffer[0:(len(experience)+len(self.buffer))-self.buffer_size] = []\n",
    "        self.buffer.extend(experience)\n",
    "            \n",
    "    def sample(self,size):\n",
    "        return np.reshape(np.array(random.sample(self.buffer,size)),[size,5])"
   ]
  },
  {
   "cell_type": "markdown",
   "metadata": {},
   "source": [
    "This is a simple function to resize our game frames."
   ]
  },
  {
   "cell_type": "code",
   "execution_count": 5,
   "metadata": {
    "collapsed": true
   },
   "outputs": [],
   "source": [
    "def processState(states):\n",
    "    return np.reshape(states,[21168])"
   ]
  },
  {
   "cell_type": "markdown",
   "metadata": {},
   "source": [
    "These functions allow us to update the parameters of our target network with those of the primary network."
   ]
  },
  {
   "cell_type": "code",
   "execution_count": 6,
   "metadata": {
    "collapsed": true
   },
   "outputs": [],
   "source": [
    "def updateTargetGraph(tfVars,tau):\n",
    "    total_vars = len(tfVars)\n",
    "    op_holder = []\n",
    "    for idx,var in enumerate(tfVars[0:total_vars//2]):\n",
    "        op_holder.append(tfVars[idx+total_vars//2].assign((var.value()*tau) + ((1-tau)*tfVars[idx+total_vars//2].value())))\n",
    "    return op_holder\n",
    "\n",
    "def updateTarget(op_holder,sess):\n",
    "    for op in op_holder:\n",
    "        sess.run(op)\n",
    "        \n",
    "#https://gist.github.com/danijar/3f3b547ff68effb03e20c470af22c696\n",
    "#https://danijar.com/variable-sequence-lengths-in-tensorflow/\n",
    "def length(sequence):\n",
    "    used = tf.sign(tf.reduce_max(tf.abs(sequence), reduction_indices=2))\n",
    "    length = tf.reduce_sum(used, reduction_indices=1)\n",
    "    length = tf.cast(length, tf.int32)\n",
    "    return length\n",
    "#https://gist.github.com/danijar/3f3b547ff68effb03e20c470af22c696\n",
    "#https://danijar.com/variable-sequence-lengths-in-tensorflow/\n",
    "def last_relevant(output, length):\n",
    "    batch_size = tf.shape(output)[0]\n",
    "    max_length = int(output.get_shape()[1])\n",
    "    output_size = int(output.get_shape()[2])\n",
    "    index = tf.range(0, batch_size) * max_length + (length - 1)\n",
    "    flat = tf.reshape(output, [-1, output_size])\n",
    "    relevant = tf.gather(flat, index)\n",
    "    return relevant"
   ]
  },
  {
   "cell_type": "markdown",
   "metadata": {},
   "source": [
    "### Training the network"
   ]
  },
  {
   "cell_type": "markdown",
   "metadata": {},
   "source": [
    "Setting all the training parameters"
   ]
  },
  {
   "cell_type": "code",
   "execution_count": 7,
   "metadata": {
    "collapsed": true
   },
   "outputs": [],
   "source": [
    "batch_size = 16 #How many experiences to use for each training step.\n",
    "update_freq = 4 #How often to perform a training step.\n",
    "y = .99 #Discount factor on the target Q-values\n",
    "startE = 1 #Starting chance of random action\n",
    "endE = 0.1 #Final chance of random action\n",
    "anneling_steps = 10000. #How many steps of training to reduce startE to endE.\n",
    "num_episodes = 10000 #How many episodes of game environment to train network with.\n",
    "pre_train_steps = 10000 #How many steps of random actions before training begins.\n",
    "max_epLength = 50 #The max allowed length of our episode.\n",
    "load_model = False #Whether to load a saved model.\n",
    "path = \"./dqn\" #The path to save our model to.\n",
    "h_size = 1024 #The size of the final convolutional layer before splitting it into Advantage and Value streams.\n",
    "tau = 0.001 #Rate to update target network toward primary network"
   ]
  },
  {
   "cell_type": "code",
   "execution_count": 11,
   "metadata": {
    "scrolled": true
   },
   "outputs": [
    {
     "name": "stdout",
     "output_type": "stream",
     "text": [
      "Tensor(\"Placeholder_2:0\", shape=(?,), dtype=float32)\n",
      "Tensor(\"Placeholder_9:0\", shape=(?,), dtype=float32)\n",
      "31.6679\n"
     ]
    }
   ],
   "source": [
    "def process_img(original_image):\n",
    "    processed_img= cv2.resize(original_image,(84,84))\n",
    "    return np.array(np.reshape(processed_img,[84,84,3]))\n",
    "tf.reset_default_graph()\n",
    "mainQN = Qnetwork(h_size,84,POPULATION,batch_size,\"Main\")\n",
    "targetQN = Qnetwork(h_size,84,POPULATION,batch_size,\"Target\")\n",
    "\n",
    "init = tf.global_variables_initializer()\n",
    "\n",
    "saver = tf.train.Saver()\n",
    "\n",
    "trainables = tf.trainable_variables()\n",
    "\n",
    "targetOps = updateTargetGraph(trainables,tau)\n",
    "\n",
    "myBuffer = experience_buffer()\n",
    "\n",
    "#Set the rate of random action decrease. \n",
    "e = startE\n",
    "stepDrop = (startE - endE)/anneling_steps\n",
    "\n",
    "#create lists to contain total rewards and steps per episode\n",
    "jList = []\n",
    "rList = []\n",
    "total_steps = 0\n",
    "\n",
    "#Make a path for our model to be saved in.\n",
    "if not os.path.exists(path):\n",
    "    os.makedirs(path)\n",
    "\n",
    "with tf.Session() as sess:\n",
    "    sess.run(init)\n",
    "    if load_model == True:\n",
    "        print('Loading Model...')\n",
    "        ckpt = tf.train.get_checkpoint_state(path)\n",
    "        saver.restore(sess,ckpt.model_checkpoint_path)\n",
    "    #for i in range(update_freq+1+pre_train_steps):\n",
    "    for i in range(1):\n",
    "        episodeBuffer = experience_buffer()\n",
    "        #Reset environment and get first new observation\n",
    "        print_screen = np.array(ImageGrab.grab(bbox=(0,60,580,530)))\n",
    "        new_screen=process_img(print_screen)\n",
    "        s = processState(new_screen)\n",
    "        d = False\n",
    "        rAll = 0\n",
    "        j = 0\n",
    "        #The Q-Network\n",
    "        while j < 1: #If the agent takes longer than 200 moves to reach either of the blocks, end the trial.\n",
    "            j+=1\n",
    "            #Choose an action by greedily (with e chance of random action) from the Q-network\n",
    "#             f_dict={mainQN.used_genomes:UsedGenomes,mainQN.genomes:Genomes,mainQN.scalarInput:[s]}\n",
    "#             a = sess.run([mainQN.predict],feed_dict=f_dict)\n",
    "#             print(a)\n",
    "#             r=random.randint(-1,1)\n",
    "#             s1 = processState(s1)\n",
    "#             total_steps += 1\n",
    "#             episodeBuffer.add(np.reshape(np.array([s,a,r,s1,d]),[1,5])) #Save the experience to our episode buffer.\n",
    "            \n",
    "#            if total_steps > pre_train_steps:\n",
    "#                 if e > endE:\n",
    "#                     e -= stepDrop\n",
    "                \n",
    "#                 if total_steps % (update_freq) == 0:\n",
    "            trainBatch=SQL.gain_history()\n",
    "            np.random.shuffle(trainBatch)\n",
    "            trainBatch=trainBatch[0:batch_size]\n",
    "            states=np.vstack(trainBatch[:,0])\n",
    "            states=np.reshape(states,[batch_size,84,84,3])\n",
    "            states_after=np.vstack(trainBatch[:,3])\n",
    "            states_after=np.reshape(states,[batch_size,84,84,3])\n",
    "            UsedGenomes=np.zeros(Genomes.shape[0])\n",
    "             #Get a random batch of experiences.\n",
    "                    #Below we perform the Double-DQN update to the target Q-values\n",
    "            action_list=[]\n",
    "            answer_list=[]\n",
    "            for k in range(batch_size):\n",
    "                m_dict={mainQN.used_genomes:UsedGenomes,mainQN.genomes:Genomes,\n",
    "                        mainQN.imageIn:[states_after[k]],mainQN.condition:0,\n",
    "                        mainQN.correct_action:[10],mainQN.correct_mean:[10]}\n",
    "                t_dict={targetQN.used_genomes:UsedGenomes,targetQN.genomes:Genomes,\n",
    "                        targetQN.imageIn:[states_after[k]],targetQN.condition:0,\n",
    "                        targetQN.correct_action:[10],targetQN.correct_mean:[10]}\n",
    "                Q1 = sess.run(mainQN.predict,feed_dict=m_dict)\n",
    "                action_list.append(Q1)\n",
    "                mean,Q2,Value = sess.run([targetQN.Mean,targetQN.Qout,targetQN.Value],feed_dict=t_dict)\n",
    "                answer_list.append(Q2[0][Q1])\n",
    "                #mean_list.append(mean[0])\n",
    "                #print(Value)\n",
    "            \n",
    "            #print(answer_list)\n",
    "            #print(action_list)\n",
    "            UsedGenomes=np.zeros(batch_size)\n",
    "            #t_dict={targetQN.used_genomes:UsedGenomes,targetQN.genomes:Genomes,\n",
    "             #           targetQN.imageIn:states_after,targetQN.condition:2,\n",
    "             #       targetQN.correct_action:action_list,targetQN.correct_mean:mean_list}\n",
    "            #Q2A,Q2V,Q2M,Q2=sess.run([targetQN.Advantage,targetQN.Value,targetQN.correct_mean,targetQN.Qout],feed_dict=t_dict)\n",
    "#             Q2A=np.array(Q2A)\n",
    "#             Q2V=np.array(Q2V)\n",
    "#             Q2M=np.array(Q2M)\n",
    "#             print(Q2V)\n",
    "#             print(Q2A)\n",
    "#             print(Q2M)\n",
    "#             print(Q2A-Q2M+Q2V)\n",
    "            #print(Q2)\n",
    "            #print(Q2[range(batch_size),action_list]) \n",
    "            #end_multiplier = -(trainBatch[:,4] - 1)\n",
    "            doubleQ = np.array(answer_list)\n",
    "            targetQ = trainBatch[:,2] + (y*doubleQ * 1)\n",
    "            mean_list=[]\n",
    "            #Update the network with our target values.\n",
    "            for k in range(batch_size):\n",
    "                m_dict={mainQN.used_genomes:UsedGenomes,mainQN.genomes:Genomes,\n",
    "                        mainQN.imageIn:[states[k]],mainQN.condition:0,\n",
    "                        mainQN.correct_action:[10],mainQN.correct_mean:[10]}\n",
    "                mean = sess.run([mainQN.Mean],feed_dict=m_dict)\n",
    "                mean_list.append(mean[0])\n",
    "            final_dict={mainQN.used_genomes:UsedGenomes,mainQN.genomes:Genomes,\n",
    "                        mainQN.imageIn:states,mainQN.condition:1,\n",
    "                        mainQN.correct_action:trainBatch[:,1],mainQN.correct_mean:np.hstack(mean_list),\n",
    "                       mainQN.targetQ:targetQ}\n",
    "            _,loss =sess.run([mainQN.updateModel,mainQN.loss], \\\n",
    "                feed_dict=final_dict)\n",
    "            print(loss)\n",
    "            #_ = sess.run(mainQN.updateModel, \\\n",
    "             #   feed_dict={mainQN.scalarInput:np.vstack(trainBatch[:,0]),mainQN.targetQ:targetQ, mainQN.actions:trainBatch[:,1]})\n",
    "\n",
    "            updateTarget(targetOps,sess) #Update the target network toward the primary network.\n",
    "#             rAll += r\n",
    "              #s = s1\n",
    "            \n",
    "#             if d == True:\n",
    "\n",
    "#                 break\n",
    "        \n",
    "#         myBuffer.add(episodeBuffer.buffer)\n",
    "#         jList.append(j)\n",
    "#         rList.append(rAll)\n",
    "#         #Periodically save the model. \n",
    "#         if i % 1000 == 0:\n",
    "#             saver.save(sess,path+'/model-'+str(i)+'.cptk')\n",
    "#             print(\"Saved Model\")\n",
    "#         if len(rList) % 10 == 0:\n",
    "#             print(total_steps,np.mean(rList[-10:]), e)\n",
    "#     saver.save(sess,path+'/model-'+str(i)+'.cptk')\n",
    "# print(\"Percent of succesful episodes: \" + str(sum(rList)/num_episodes) + \"%\")"
   ]
  },
  {
   "cell_type": "code",
   "execution_count": 10,
   "metadata": {
    "collapsed": true
   },
   "outputs": [],
   "source": [
    "class Qnetwork():\n",
    "    def __init__(self,h_size,s_size,POPULATION,BATCH,myScope):\n",
    "        #The network recieves a frame from the game, flattened into an array.\n",
    "        #It then resizes it and processes it through four convolutional layers.\n",
    "        self.genomes= tf.placeholder(shape=[POPULATION,30,3],dtype=tf.int32)   \n",
    "        self.condition = tf.placeholder(tf.int32, shape=[], name=\"condition\")\n",
    "        self.correct_action=tf.placeholder(shape=[None], dtype=tf.int32)\n",
    "        self.correct_mean=tf.placeholder(shape=[None], dtype=tf.float32)\n",
    "        print(self.correct_mean)\n",
    "        self.imageIn = tf.placeholder(shape=[None,s_size,s_size,3],dtype=tf.float32)      \n",
    "        self.used_genomes= tf.placeholder(shape=[None],dtype=tf.int32)\n",
    "        self.conv1 = slim.conv2d( \\\n",
    "        inputs=self.imageIn,num_outputs=32,kernel_size=[8,8],stride=[4,4],padding='VALID', biases_initializer=None)\n",
    "        self.conv2 = slim.conv2d( \\\n",
    "            inputs=self.conv1,num_outputs=64,kernel_size=[4,4],stride=[2,2],padding='VALID', biases_initializer=None)\n",
    "        self.conv3 = slim.conv2d( \\\n",
    "            inputs=self.conv2,num_outputs=64,kernel_size=[3,3],stride=[1,1],padding='VALID', biases_initializer=None)\n",
    "        self.conv4 = slim.conv2d( \\\n",
    "            inputs=self.conv3,num_outputs=h_size,kernel_size=[7,7],stride=[1,1],padding='VALID', biases_initializer=None)\n",
    "        #We take the output from the final convolutional layer and split it into separate advantage and value streams.\n",
    "        self.streamAC,self.streamVC = tf.split(self.conv4,2,3)\n",
    "        self.streamA = tf.reshape(self.streamAC,[-1,512])\n",
    "        self.streamV = slim.flatten(self.streamVC)\n",
    "        xavier_init = tf.contrib.layers.xavier_initializer()\n",
    "        hidden_conv = slim.fully_connected(self.streamA,h_size//2,biases_initializer=None,activation_fn=tf.nn.relu)\n",
    "        self.VW=tf.Variable(xavier_init([h_size//2,1]))\n",
    "        self.Value =tf.cond(self.condition <  1, \n",
    "                             lambda: tf.matmul(self.streamV,self.VW), \n",
    "                             lambda: tf.reshape(tf.matmul(self.streamV,self.VW),[1,BATCH])[0])\n",
    "        hidden_conv = tf.cond(self.condition <  1, lambda: tf.tile(hidden_conv,[POPULATION,1]), lambda: hidden_conv)\n",
    "        \n",
    "        sequence_output, state = tf.nn.dynamic_rnn(tf.contrib.rnn.LSTMCell(64),\\\n",
    "                                            tf.cast(self.genomes,tf.float32),dtype=tf.float32,sequence_length=length(self.genomes),scope=myScope+'_rnn')\n",
    "        last = last_relevant(sequence_output, length(self.genomes)) \n",
    "        hidden_rnn= slim.fully_connected(last,64,biases_initializer=None,activation_fn=tf.nn.relu)\n",
    "        hidden_rnn=tf.cond(self.condition < 1, lambda: hidden_rnn,lambda: tf.gather(hidden_rnn,self.correct_action)) \n",
    "        combined=tf.concat([hidden_rnn,hidden_conv],1)\n",
    "        #\n",
    "        #Change Recurrent Net to Match Inputs in Testing\n",
    "        #hidden_rnn=tf.cond(self.condition < 1, lambda: hidden_rnn,lambda: tf.gather(hidden_rnn,self.action_holder)) \n",
    "        self.hidden_combined= slim.fully_connected(combined,h_size,biases_initializer=None,activation_fn=tf.nn.relu)\n",
    "        self.hidden_combined_2= slim.fully_connected(self.hidden_combined,h_size//4,biases_initializer=None,activation_fn=tf.nn.relu)\n",
    "        self.regression= slim.fully_connected(self.hidden_combined_2,1,biases_initializer=None,activation_fn=tf.nn.tanh)\n",
    "        self.Advantage=tf.cond(self.condition <  1, \n",
    "        lambda: tf.reshape(self.regression,[1,POPULATION]), \n",
    "        lambda: tf.reshape(self.regression,[1,BATCH])[0])\n",
    "        #self.Advantage=tf.reduce_mean(self.Advantage,axis=1,keep_dims=True)\n",
    "        #Then combine them together to get our final Q-values.\n",
    "        self.Mean=tf.reduce_mean(self.Advantage,axis=1,keep_dims=False)\n",
    "        self.Qout=tf.cond(self.condition <  1, \n",
    "        lambda: self.Value + tf.subtract(self.Advantage,tf.reduce_mean(self.Advantage,axis=1,keep_dims=True)), \n",
    "        lambda: self.Value + self.Advantage-self.correct_mean)\n",
    "\n",
    "        self.Smooth=tf.subtract(tf.reshape(self.Qout,[POPULATION]),tf.cast(self.used_genomes,tf.float32))\n",
    "        self.predict = tf.argmax(self.Smooth,0)\n",
    "        \n",
    "        #Below we obtain the loss by taking the sum of squares difference between the target and prediction Q values.\n",
    "        self.targetQ = tf.placeholder(shape=[None],dtype=tf.float32)\n",
    "        self.actions = tf.placeholder(shape=[None],dtype=tf.int32)\n",
    "        #self.actions_onehot = tf.one_hot(self.actions,BATCH,dtype=tf.float32)\n",
    "        \n",
    "        #self.Q = tf.reduce_sum(tf.multiply(self.Qout, self.actions_onehot), axis=1)\n",
    "        \n",
    "        self.td_error = tf.square(self.targetQ - self.Qout)\n",
    "        self.loss = tf.reduce_mean(self.td_error)\n",
    "        self.trainer = tf.train.AdamOptimizer(learning_rate=0.0001)\n",
    "        self.updateModel = self.trainer.minimize(self.loss)"
   ]
  },
  {
   "cell_type": "markdown",
   "metadata": {},
   "source": [
    "### Checking network learning"
   ]
  },
  {
   "cell_type": "markdown",
   "metadata": {},
   "source": [
    "Mean reward over time"
   ]
  },
  {
   "cell_type": "code",
   "execution_count": null,
   "metadata": {
    "collapsed": true
   },
   "outputs": [],
   "source": [
    "rMat = np.resize(np.array(rList),[len(rList)//100,100])\n",
    "rMean = np.average(rMat,1)\n",
    "plt.plot(rMean)"
   ]
  },
  {
   "cell_type": "code",
   "execution_count": null,
   "metadata": {
    "collapsed": true,
    "scrolled": true
   },
   "outputs": [],
   "source": [
    "trainBatch[:,2]"
   ]
  },
  {
   "cell_type": "code",
   "execution_count": null,
   "metadata": {
    "collapsed": true
   },
   "outputs": [],
   "source": [
    "targetQ"
   ]
  },
  {
   "cell_type": "code",
   "execution_count": null,
   "metadata": {
    "collapsed": true
   },
   "outputs": [],
   "source": [
    "arr = SQL.gain_history()\n",
    "print(arr.shape)\n",
    "x=np.random.shuffle(arr)\n",
    "#print(arr)"
   ]
  }
 ],
 "metadata": {
  "anaconda-cloud": {},
  "kernelspec": {
   "display_name": "Python 3",
   "language": "python",
   "name": "python3"
  },
  "language_info": {
   "codemirror_mode": {
    "name": "ipython",
    "version": 3
   },
   "file_extension": ".py",
   "mimetype": "text/x-python",
   "name": "python",
   "nbconvert_exporter": "python",
   "pygments_lexer": "ipython3",
   "version": "3.6.1"
  }
 },
 "nbformat": 4,
 "nbformat_minor": 1
}
