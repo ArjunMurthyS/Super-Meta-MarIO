{
 "cells": [
  {
   "cell_type": "code",
   "execution_count": 1,
   "metadata": {},
   "outputs": [
    {
     "name": "stderr",
     "output_type": "stream",
     "text": [
      "Using TensorFlow backend.\n"
     ]
    }
   ],
   "source": [
    "import tensorflow as tf\n",
    "import tensorflow.contrib.slim as slim\n",
    "import numpy as np\n",
    "import matplotlib.pyplot as plt\n",
    "import cv2\n",
    "from PIL import ImageGrab\n",
    "from lib.SQL import SQLCalls\n",
    "from keras.preprocessing.sequence import pad_sequences\n",
    "try:\n",
    "    xrange = xrange\n",
    "except:\n",
    "    xrange = range"
   ]
  },
  {
   "cell_type": "code",
   "execution_count": 2,
   "metadata": {
    "collapsed": true
   },
   "outputs": [],
   "source": [
    "def discount_rewards(r):\n",
    "    \"\"\" take 1D float array of rewards and compute discounted reward \"\"\"\n",
    "    discounted_r = np.zeros_like(r)\n",
    "    running_add = 0\n",
    "    for t in reversed(xrange(0, r.size)):\n",
    "        running_add = running_add * .99 + r[t]\n",
    "        discounted_r[t] = running_add   \n",
    "    return discounted_r\n",
    "\n",
    "def process_img(original_image):\n",
    "    processed_img=cv2.cvtColor(original_image, cv2.COLOR_BGR2GRAY)\n",
    "    processed_img= cv2.resize(processed_img,(28,28))\n",
    "    return processed_img"
   ]
  },
  {
   "cell_type": "code",
   "execution_count": 3,
   "metadata": {
    "collapsed": true
   },
   "outputs": [],
   "source": [
    "def length(sequence):\n",
    "    used = tf.sign(tf.reduce_max(tf.abs(sequence), reduction_indices=2))\n",
    "    length = tf.reduce_sum(used, reduction_indices=1)\n",
    "    length = tf.cast(length, tf.int32)\n",
    "    return length"
   ]
  },
  {
   "cell_type": "code",
   "execution_count": 17,
   "metadata": {},
   "outputs": [],
   "source": [
    "def run():\n",
    "    tf.reset_default_graph()\n",
    "    myAgent = agent(lr=1e-2,s_size=28*28,a_size=4,h_size=64)\n",
    "    init = tf.global_variables_initializer()\n",
    "    update_frequency = 5\n",
    "    init = tf.global_variables_initializer()\n",
    "    d=False\n",
    "    SQL=SQLCalls()\n",
    "    Genomes=SQL.GatherGenomes()\n",
    "    # Launch the tensorflow graph\n",
    "    with tf.Session() as sess:\n",
    "        sess.run(init)\n",
    "        i = 0\n",
    "        total_reward = []\n",
    "        total_lenght = []\n",
    "        UsedGenomes=np.ones(24)\n",
    "        gradBuffer = sess.run(tf.trainable_variables())\n",
    "        for ix,grad in enumerate(gradBuffer):\n",
    "            gradBuffer[ix] = grad * 0\n",
    "\n",
    "        while i < 1:\n",
    "            s= print_screen = np.array(ImageGrab.grab(bbox=(0,60,580,530)))\n",
    "            s=np.array(np.reshape(process_img(print_screen),[-1]))\n",
    "            running_reward = 0\n",
    "            ep_history = []\n",
    "            for j in range(1):\n",
    "                #Probabilistically pick an action given our network outputs.\n",
    "                a_dist = sess.run(myAgent.output,feed_dict={myAgent.state_in:[s],myAgent.genomes:Genomes\\\n",
    "                                                             ,myAgent.used_genomes:UsedGenomes})\n",
    "                a = np.random.choice(a_dist,p=a_dist)\n",
    "                a = np.argmax(a_dist == a)\n",
    "                print(a)\n",
    "                #running_reward += r\n",
    "                if d == True:\n",
    "                    #Update the network.\n",
    "                    ep_history = np.array(ep_history)\n",
    "                    ep_history[:,2] = discount_rewards(ep_history[:,2])\n",
    "                    feed_dict={myAgent.reward_holder:ep_history[:,2],\n",
    "                            myAgent.action_holder:ep_history[:,1],myAgent.state_in:np.vstack(ep_history[:,0])}\n",
    "                    grads = sess.run(myAgent.gradients, feed_dict=feed_dict)\n",
    "                    for idx,grad in enumerate(grads):\n",
    "                        gradBuffer[idx] += grad\n",
    "\n",
    "                    if i % update_frequency == 0 and i != 0:\n",
    "                        feed_dict= dictionary = dict(zip(myAgent.gradient_holders, gradBuffer))\n",
    "                        _ = sess.run(myAgent.update_batch, feed_dict=feed_dict)\n",
    "                        for ix,grad in enumerate(gradBuffer):\n",
    "                            gradBuffer[ix] = grad * 0\n",
    "\n",
    "                    total_reward.append(running_reward)\n",
    "                    total_lenght.append(j)\n",
    "                    break\n",
    "\n",
    "\n",
    "            i += 1"
   ]
  },
  {
   "cell_type": "code",
   "execution_count": 18,
   "metadata": {},
   "outputs": [
    {
     "name": "stdout",
     "output_type": "stream",
     "text": [
      "(24, 1)\n",
      "10\n"
     ]
    }
   ],
   "source": [
    "#https://gist.github.com/danijar/3f3b547ff68effb03e20c470af22c696\n",
    "#https://danijar.com/variable-sequence-lengths-in-tensorflow/\n",
    "#https://stackoverflow.com/questions/36817596/get-last-output-of-dynamic-rnn-in-tensorflow\n",
    "def length(sequence):\n",
    "    used = tf.sign(tf.reduce_max(tf.abs(sequence), reduction_indices=2))\n",
    "    length = tf.reduce_sum(used, reduction_indices=1)\n",
    "    length = tf.cast(length, tf.int32)\n",
    "    return length\n",
    "\n",
    "def last_relevant(output, length):\n",
    "    batch_size = tf.shape(output)[0]\n",
    "    max_length = int(output.get_shape()[1])\n",
    "    output_size = int(output.get_shape()[2])\n",
    "    index = tf.range(0, batch_size) * max_length + (length - 1)\n",
    "    flat = tf.reshape(output, [-1, output_size])\n",
    "    relevant = tf.gather(flat, index)\n",
    "    return relevant\n",
    "\n",
    "class agent():\n",
    "    def __init__(self, lr, s_size,a_size,h_size):\n",
    "        #These lines established the feed-forward part of the network. The agent takes a state and produces an action.\n",
    "        self.state_in= tf.placeholder(shape=[None,s_size],dtype=tf.float32)\n",
    "        self.genomes= tf.placeholder(shape=[24,8,3],dtype=tf.int32)\n",
    "        self.used_genomes= tf.placeholder(shape=[24],dtype=tf.int32)\n",
    "        #self.genomes=tf.placeholder(tf.float32, [None, max_length, frame_size])\n",
    "        \n",
    "        \n",
    "        hidden = slim.fully_connected(self.state_in,h_size,biases_initializer=None,activation_fn=tf.nn.relu)\n",
    "        sequence_output, state = tf.nn.dynamic_rnn(tf.contrib.rnn.LSTMCell(64),\\\n",
    "                                          tf.cast(self.genomes,tf.float32),dtype=tf.float32,sequence_length=length(self.genomes))\n",
    "        last = last_relevant(sequence_output, length(self.genomes))\n",
    "        \n",
    "        self.hidden2= slim.fully_connected(last,1,biases_initializer=None,activation_fn=tf.nn.sigmoid)\n",
    "        self.output=tf.reshape(self.hidden2,[-1])*tf.cast(self.used_genomes,tf.float32)\n",
    "        self.output=tf.nn.softmax(self.output)\n",
    "        #self.chosen_action = tf.argmax(self.output,1)\n",
    "\n",
    "\n",
    "               # hidden3= tf.concat(tf.to_float(hidden),tf.to_float(hidden2))\n",
    "        #The next six lines establish the training proceedure. We feed the reward and chosen action into the network\n",
    "        #to compute the loss, and use it to update the network.\n",
    "#         self.reward_holder = tf.placeholder(shape=[None],dtype=tf.float32)\n",
    "#         self.action_holder = tf.placeholder(shape=[None],dtype=tf.int32)\n",
    "        \n",
    "#         self.indexes = tf.range(0, tf.shape(self.output)[0]) * 2 + self.action_holder\n",
    "#         self.responsible_outputs = tf.gather(tf.reshape(self.output, [-1]), self.indexes)\n",
    "#         self.loss = -tf.reduce_mean(tf.log(self.responsible_outputs)*self.reward_holder)\n",
    "        \n",
    "#         tvars = tf.trainable_variables()\n",
    "#         self.gradient_holders = []\n",
    "#         for idx,var in enumerate(tvars):\n",
    "#             placeholder = tf.placeholder(tf.float32,name=str(idx)+'_holder')\n",
    "#             self.gradient_holders.append(placeholder)\n",
    "        \n",
    "#         self.gradients = tf.gradients(self.loss,tvars)\n",
    "        \n",
    "#         optimizer = tf.train.AdamOptimizer(learning_rate=lr)\n",
    "#         self.update_batch = optimizer.apply_gradients(zip(self.gradient_holders,tvars))\n",
    "run()"
   ]
  },
  {
   "cell_type": "code",
   "execution_count": 7,
   "metadata": {},
   "outputs": [],
   "source": [
    "x=[[ .5,.5]]\n",
    "a = np.random.choice(x[0],p=x[0])\n",
    "a = np.argmax(x == a)"
   ]
  }
 ],
 "metadata": {
  "kernelspec": {
   "display_name": "Python 3",
   "language": "python",
   "name": "python3"
  },
  "language_info": {
   "codemirror_mode": {
    "name": "ipython",
    "version": 3
   },
   "file_extension": ".py",
   "mimetype": "text/x-python",
   "name": "python",
   "nbconvert_exporter": "python",
   "pygments_lexer": "ipython3",
   "version": "3.6.1"
  }
 },
 "nbformat": 4,
 "nbformat_minor": 2
}
